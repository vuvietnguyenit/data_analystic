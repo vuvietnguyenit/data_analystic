{
 "cells": [
  {
   "cell_type": "markdown",
   "source": [
    "### Project: Analyze fluctuations in HTTP request latency data to determine reliability\n",
    "\n",
    "Appendix:\n",
    "- Prepare data:\n",
    "\t- Create sample data from script\n",
    "\n",
    "- Analyze data\n",
    "\t- Load data to dataframe\n",
    "\t\n",
    "\n",
    "- Calculate SLI\n",
    "\t- Bin data to bucket latency (le)\n",
    "\t- Explore data \n",
    "\t- Calculate relative change (pct_change) on rolling windows\n",
    "\t\tFormula: xxx\n",
    "\t- Calculate percentile: [50th, 90th, 95th, 99th]\n",
    "\t\n",
    "- Apply model"
   ],
   "metadata": {
    "collapsed": false
   },
   "id": "82a17cf9c2c898e5"
  },
  {
   "cell_type": "code",
   "outputs": [],
   "source": [],
   "metadata": {
    "collapsed": false
   },
   "id": "131a455e0aacc081"
  }
 ],
 "metadata": {
  "kernelspec": {
   "display_name": "Python 3",
   "language": "python",
   "name": "python3"
  },
  "language_info": {
   "codemirror_mode": {
    "name": "ipython",
    "version": 2
   },
   "file_extension": ".py",
   "mimetype": "text/x-python",
   "name": "python",
   "nbconvert_exporter": "python",
   "pygments_lexer": "ipython2",
   "version": "2.7.6"
  }
 },
 "nbformat": 4,
 "nbformat_minor": 5
}
