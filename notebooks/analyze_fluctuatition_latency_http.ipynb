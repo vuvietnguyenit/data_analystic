{
 "cells": [
  {
   "cell_type": "markdown",
   "source": [
    "### Project: Analyze fluctuations in HTTP request latency data to determine reliability\n",
    "\n",
    "Appendix:\n",
    "- Prepare data:\n",
    "\t- Create sample data from script (data has interval time is 30 second)\n",
    "\n",
    "- Analyze data\n",
    "\t- Load data (.csv) to dataframe\n",
    "\t- Standardize data\n",
    "\t    - Set index for dataframe is timestamp\n",
    "\t- Explore data\n",
    "\t    - Overview dataset by summary buckets in time series\n",
    "        - Identify issue about latency http request on dataset -> Result about time range issue occur\n",
    "    - SLI Calculator\n",
    "        - Simulator rate() on rolling windows\n",
    "        - Calculate percentile: [50th, 90th, 95th, 99th] or latency in time vector\n",
    "\t\n",
    "- Apply model"
   ],
   "metadata": {
    "collapsed": false
   },
   "id": "82a17cf9c2c898e5"
  },
  {
   "cell_type": "markdown",
   "source": [],
   "metadata": {
    "collapsed": false
   },
   "id": "4decef2b3e0a755c"
  },
  {
   "cell_type": "code",
   "outputs": [],
   "source": [
    "import warnings\n",
    "warnings.simplefilter(action='ignore', category=FutureWarning)\n",
    "\n",
    "import pandas as pd\n",
    "import matplotlib.pyplot as plt\n",
    "\n",
    "pd.options.mode.chained_assignment = None"
   ],
   "metadata": {
    "collapsed": false,
    "ExecuteTime": {
     "end_time": "2024-02-01T15:53:54.211191Z",
     "start_time": "2024-02-01T15:53:54.189436500Z"
    }
   },
   "id": "131a455e0aacc081",
   "execution_count": 96
  },
  {
   "cell_type": "code",
   "outputs": [],
   "source": [
    "# Load dataset from CSV file\n",
    "root = pd.read_csv('../statics/csv/request_data_with_anomaly_pod_instance.csv', index_col=0)"
   ],
   "metadata": {
    "collapsed": false,
    "ExecuteTime": {
     "end_time": "2024-02-01T15:56:02.125443500Z",
     "start_time": "2024-02-01T15:56:02.095885600Z"
    }
   },
   "id": "c65681fb7e5a40ba",
   "execution_count": 114
  },
  {
   "cell_type": "code",
   "outputs": [
    {
     "data": {
      "text/plain": "                       path method controller_pod service_name   le  count\ntimestamp                                                                 \n2024-01-02 10:42:00   /home    GET          pod-2  process_log  inf      1\n2024-01-02 10:42:00   /home    GET          pod-2  process_log  1.0      1\n2024-01-02 10:42:00   /home    GET          pod-2  process_log  2.0      1\n2024-01-02 10:42:00  /users    GET          pod-2  process_log  inf      2\n2024-01-02 10:42:00  /users    GET          pod-2  process_log  0.5      2",
      "text/html": "<div>\n<style scoped>\n    .dataframe tbody tr th:only-of-type {\n        vertical-align: middle;\n    }\n\n    .dataframe tbody tr th {\n        vertical-align: top;\n    }\n\n    .dataframe thead th {\n        text-align: right;\n    }\n</style>\n<table border=\"1\" class=\"dataframe\">\n  <thead>\n    <tr style=\"text-align: right;\">\n      <th></th>\n      <th>path</th>\n      <th>method</th>\n      <th>controller_pod</th>\n      <th>service_name</th>\n      <th>le</th>\n      <th>count</th>\n    </tr>\n    <tr>\n      <th>timestamp</th>\n      <th></th>\n      <th></th>\n      <th></th>\n      <th></th>\n      <th></th>\n      <th></th>\n    </tr>\n  </thead>\n  <tbody>\n    <tr>\n      <th>2024-01-02 10:42:00</th>\n      <td>/home</td>\n      <td>GET</td>\n      <td>pod-2</td>\n      <td>process_log</td>\n      <td>inf</td>\n      <td>1</td>\n    </tr>\n    <tr>\n      <th>2024-01-02 10:42:00</th>\n      <td>/home</td>\n      <td>GET</td>\n      <td>pod-2</td>\n      <td>process_log</td>\n      <td>1.0</td>\n      <td>1</td>\n    </tr>\n    <tr>\n      <th>2024-01-02 10:42:00</th>\n      <td>/home</td>\n      <td>GET</td>\n      <td>pod-2</td>\n      <td>process_log</td>\n      <td>2.0</td>\n      <td>1</td>\n    </tr>\n    <tr>\n      <th>2024-01-02 10:42:00</th>\n      <td>/users</td>\n      <td>GET</td>\n      <td>pod-2</td>\n      <td>process_log</td>\n      <td>inf</td>\n      <td>2</td>\n    </tr>\n    <tr>\n      <th>2024-01-02 10:42:00</th>\n      <td>/users</td>\n      <td>GET</td>\n      <td>pod-2</td>\n      <td>process_log</td>\n      <td>0.5</td>\n      <td>2</td>\n    </tr>\n  </tbody>\n</table>\n</div>"
     },
     "execution_count": 117,
     "metadata": {},
     "output_type": "execute_result"
    }
   ],
   "source": [
    "root.head()"
   ],
   "metadata": {
    "collapsed": false,
    "ExecuteTime": {
     "end_time": "2024-02-01T15:56:06.562392400Z",
     "start_time": "2024-02-01T15:56:06.549799100Z"
    }
   },
   "id": "52f9100579606dae",
   "execution_count": 117
  },
  {
   "cell_type": "code",
   "outputs": [],
   "source": [
    "# Set index for dataframe is timestamp\n",
    "root = root.set_index(\"timestamp\")\n",
    "# Convert buckets to string\n",
    "root['le'] = root['le'].astype(str)"
   ],
   "metadata": {
    "collapsed": false,
    "ExecuteTime": {
     "end_time": "2024-02-01T15:56:03.105841400Z",
     "start_time": "2024-02-01T15:56:03.071474500Z"
    }
   },
   "id": "3ee751c1b1fcbc39",
   "execution_count": 116
  },
  {
   "cell_type": "code",
   "outputs": [],
   "source": [
    "grouped = ['service_name', 'controller_pod', 'path', 'method', 'le']"
   ],
   "metadata": {
    "collapsed": false,
    "ExecuteTime": {
     "end_time": "2024-02-01T15:56:12.676136800Z",
     "start_time": "2024-02-01T15:56:12.654940800Z"
    }
   },
   "id": "4b21c6485220e72f",
   "execution_count": 118
  },
  {
   "cell_type": "code",
   "outputs": [
    {
     "data": {
      "text/plain": "                       path method controller_pod service_name    le  count\ntimestamp                                                                  \n2024-01-02 10:56:00  /users    GET          pod-1  process_log   inf    120\n2024-01-02 10:56:00  /users    GET          pod-1  process_log   0.1     21\n2024-01-02 10:56:00  /users    GET          pod-1  process_log  0.25     40\n2024-01-02 10:56:00  /users    GET          pod-1  process_log   0.5     81\n2024-01-02 10:56:00  /users    GET          pod-1  process_log   1.0    120\n2024-01-02 10:56:00  /users    GET          pod-1  process_log   2.0    120\n2024-01-02 10:56:30  /users    GET          pod-1  process_log   inf    124\n2024-01-02 10:56:30  /users    GET          pod-1  process_log  0.25     42\n2024-01-02 10:56:30  /users    GET          pod-1  process_log   0.5     84\n2024-01-02 10:56:30  /users    GET          pod-1  process_log   1.0    124\n2024-01-02 10:56:30  /users    GET          pod-1  process_log   2.0    124\n2024-01-02 10:57:00  /users    GET          pod-1  process_log   inf    130\n2024-01-02 10:57:00  /users    GET          pod-1  process_log   0.5     85\n2024-01-02 10:57:00  /users    GET          pod-1  process_log   1.0    130\n2024-01-02 10:57:00  /users    GET          pod-1  process_log   2.0    130\n2024-01-02 10:57:30  /users    GET          pod-1  process_log   inf    135\n2024-01-02 10:57:30  /users    GET          pod-1  process_log  0.05     12\n2024-01-02 10:57:30  /users    GET          pod-1  process_log   0.1     22\n2024-01-02 10:57:30  /users    GET          pod-1  process_log  0.25     43\n2024-01-02 10:57:30  /users    GET          pod-1  process_log   0.5     88\n2024-01-02 10:57:30  /users    GET          pod-1  process_log   1.0    136\n2024-01-02 10:57:30  /users    GET          pod-1  process_log   2.0    136\n2024-01-02 10:58:00  /users    GET          pod-1  process_log   inf    138\n2024-01-02 10:58:00  /users    GET          pod-1  process_log  0.05     13\n2024-01-02 10:58:00  /users    GET          pod-1  process_log   0.1     23\n2024-01-02 10:58:00  /users    GET          pod-1  process_log  0.25     44\n2024-01-02 10:58:00  /users    GET          pod-1  process_log   0.5     90\n2024-01-02 10:58:00  /users    GET          pod-1  process_log   1.0    138\n2024-01-02 10:58:00  /users    GET          pod-1  process_log   2.0    138",
      "text/html": "<div>\n<style scoped>\n    .dataframe tbody tr th:only-of-type {\n        vertical-align: middle;\n    }\n\n    .dataframe tbody tr th {\n        vertical-align: top;\n    }\n\n    .dataframe thead th {\n        text-align: right;\n    }\n</style>\n<table border=\"1\" class=\"dataframe\">\n  <thead>\n    <tr style=\"text-align: right;\">\n      <th></th>\n      <th>path</th>\n      <th>method</th>\n      <th>controller_pod</th>\n      <th>service_name</th>\n      <th>le</th>\n      <th>count</th>\n    </tr>\n    <tr>\n      <th>timestamp</th>\n      <th></th>\n      <th></th>\n      <th></th>\n      <th></th>\n      <th></th>\n      <th></th>\n    </tr>\n  </thead>\n  <tbody>\n    <tr>\n      <th>2024-01-02 10:56:00</th>\n      <td>/users</td>\n      <td>GET</td>\n      <td>pod-1</td>\n      <td>process_log</td>\n      <td>inf</td>\n      <td>120</td>\n    </tr>\n    <tr>\n      <th>2024-01-02 10:56:00</th>\n      <td>/users</td>\n      <td>GET</td>\n      <td>pod-1</td>\n      <td>process_log</td>\n      <td>0.1</td>\n      <td>21</td>\n    </tr>\n    <tr>\n      <th>2024-01-02 10:56:00</th>\n      <td>/users</td>\n      <td>GET</td>\n      <td>pod-1</td>\n      <td>process_log</td>\n      <td>0.25</td>\n      <td>40</td>\n    </tr>\n    <tr>\n      <th>2024-01-02 10:56:00</th>\n      <td>/users</td>\n      <td>GET</td>\n      <td>pod-1</td>\n      <td>process_log</td>\n      <td>0.5</td>\n      <td>81</td>\n    </tr>\n    <tr>\n      <th>2024-01-02 10:56:00</th>\n      <td>/users</td>\n      <td>GET</td>\n      <td>pod-1</td>\n      <td>process_log</td>\n      <td>1.0</td>\n      <td>120</td>\n    </tr>\n    <tr>\n      <th>2024-01-02 10:56:00</th>\n      <td>/users</td>\n      <td>GET</td>\n      <td>pod-1</td>\n      <td>process_log</td>\n      <td>2.0</td>\n      <td>120</td>\n    </tr>\n    <tr>\n      <th>2024-01-02 10:56:30</th>\n      <td>/users</td>\n      <td>GET</td>\n      <td>pod-1</td>\n      <td>process_log</td>\n      <td>inf</td>\n      <td>124</td>\n    </tr>\n    <tr>\n      <th>2024-01-02 10:56:30</th>\n      <td>/users</td>\n      <td>GET</td>\n      <td>pod-1</td>\n      <td>process_log</td>\n      <td>0.25</td>\n      <td>42</td>\n    </tr>\n    <tr>\n      <th>2024-01-02 10:56:30</th>\n      <td>/users</td>\n      <td>GET</td>\n      <td>pod-1</td>\n      <td>process_log</td>\n      <td>0.5</td>\n      <td>84</td>\n    </tr>\n    <tr>\n      <th>2024-01-02 10:56:30</th>\n      <td>/users</td>\n      <td>GET</td>\n      <td>pod-1</td>\n      <td>process_log</td>\n      <td>1.0</td>\n      <td>124</td>\n    </tr>\n    <tr>\n      <th>2024-01-02 10:56:30</th>\n      <td>/users</td>\n      <td>GET</td>\n      <td>pod-1</td>\n      <td>process_log</td>\n      <td>2.0</td>\n      <td>124</td>\n    </tr>\n    <tr>\n      <th>2024-01-02 10:57:00</th>\n      <td>/users</td>\n      <td>GET</td>\n      <td>pod-1</td>\n      <td>process_log</td>\n      <td>inf</td>\n      <td>130</td>\n    </tr>\n    <tr>\n      <th>2024-01-02 10:57:00</th>\n      <td>/users</td>\n      <td>GET</td>\n      <td>pod-1</td>\n      <td>process_log</td>\n      <td>0.5</td>\n      <td>85</td>\n    </tr>\n    <tr>\n      <th>2024-01-02 10:57:00</th>\n      <td>/users</td>\n      <td>GET</td>\n      <td>pod-1</td>\n      <td>process_log</td>\n      <td>1.0</td>\n      <td>130</td>\n    </tr>\n    <tr>\n      <th>2024-01-02 10:57:00</th>\n      <td>/users</td>\n      <td>GET</td>\n      <td>pod-1</td>\n      <td>process_log</td>\n      <td>2.0</td>\n      <td>130</td>\n    </tr>\n    <tr>\n      <th>2024-01-02 10:57:30</th>\n      <td>/users</td>\n      <td>GET</td>\n      <td>pod-1</td>\n      <td>process_log</td>\n      <td>inf</td>\n      <td>135</td>\n    </tr>\n    <tr>\n      <th>2024-01-02 10:57:30</th>\n      <td>/users</td>\n      <td>GET</td>\n      <td>pod-1</td>\n      <td>process_log</td>\n      <td>0.05</td>\n      <td>12</td>\n    </tr>\n    <tr>\n      <th>2024-01-02 10:57:30</th>\n      <td>/users</td>\n      <td>GET</td>\n      <td>pod-1</td>\n      <td>process_log</td>\n      <td>0.1</td>\n      <td>22</td>\n    </tr>\n    <tr>\n      <th>2024-01-02 10:57:30</th>\n      <td>/users</td>\n      <td>GET</td>\n      <td>pod-1</td>\n      <td>process_log</td>\n      <td>0.25</td>\n      <td>43</td>\n    </tr>\n    <tr>\n      <th>2024-01-02 10:57:30</th>\n      <td>/users</td>\n      <td>GET</td>\n      <td>pod-1</td>\n      <td>process_log</td>\n      <td>0.5</td>\n      <td>88</td>\n    </tr>\n    <tr>\n      <th>2024-01-02 10:57:30</th>\n      <td>/users</td>\n      <td>GET</td>\n      <td>pod-1</td>\n      <td>process_log</td>\n      <td>1.0</td>\n      <td>136</td>\n    </tr>\n    <tr>\n      <th>2024-01-02 10:57:30</th>\n      <td>/users</td>\n      <td>GET</td>\n      <td>pod-1</td>\n      <td>process_log</td>\n      <td>2.0</td>\n      <td>136</td>\n    </tr>\n    <tr>\n      <th>2024-01-02 10:58:00</th>\n      <td>/users</td>\n      <td>GET</td>\n      <td>pod-1</td>\n      <td>process_log</td>\n      <td>inf</td>\n      <td>138</td>\n    </tr>\n    <tr>\n      <th>2024-01-02 10:58:00</th>\n      <td>/users</td>\n      <td>GET</td>\n      <td>pod-1</td>\n      <td>process_log</td>\n      <td>0.05</td>\n      <td>13</td>\n    </tr>\n    <tr>\n      <th>2024-01-02 10:58:00</th>\n      <td>/users</td>\n      <td>GET</td>\n      <td>pod-1</td>\n      <td>process_log</td>\n      <td>0.1</td>\n      <td>23</td>\n    </tr>\n    <tr>\n      <th>2024-01-02 10:58:00</th>\n      <td>/users</td>\n      <td>GET</td>\n      <td>pod-1</td>\n      <td>process_log</td>\n      <td>0.25</td>\n      <td>44</td>\n    </tr>\n    <tr>\n      <th>2024-01-02 10:58:00</th>\n      <td>/users</td>\n      <td>GET</td>\n      <td>pod-1</td>\n      <td>process_log</td>\n      <td>0.5</td>\n      <td>90</td>\n    </tr>\n    <tr>\n      <th>2024-01-02 10:58:00</th>\n      <td>/users</td>\n      <td>GET</td>\n      <td>pod-1</td>\n      <td>process_log</td>\n      <td>1.0</td>\n      <td>138</td>\n    </tr>\n    <tr>\n      <th>2024-01-02 10:58:00</th>\n      <td>/users</td>\n      <td>GET</td>\n      <td>pod-1</td>\n      <td>process_log</td>\n      <td>2.0</td>\n      <td>138</td>\n    </tr>\n  </tbody>\n</table>\n</div>"
     },
     "execution_count": 159,
     "metadata": {},
     "output_type": "execute_result"
    }
   ],
   "source": [
    "root.query(\"path == '/users' and controller_pod == 'pod-1'\").loc['2024-01-02 10:56:00' : '2024-01-02 10:58:00']"
   ],
   "metadata": {
    "collapsed": false,
    "ExecuteTime": {
     "end_time": "2024-02-01T16:23:53.319804400Z",
     "start_time": "2024-02-01T16:23:53.287697600Z"
    }
   },
   "id": "760df666f3a77639",
   "execution_count": 159
  },
  {
   "cell_type": "code",
   "outputs": [],
   "source": [
    "fig, ax = plt.subplots(figsize=(8,6))\n",
    "for label, df in root.groupby(grouped):\n",
    "    df['count'].plot(kind=\"hist\", ax=ax, label=label, x=\"le\")\n",
    "plt.legend()"
   ],
   "metadata": {
    "collapsed": false,
    "ExecuteTime": {
     "start_time": "2024-02-01T15:53:54.358335300Z"
    }
   },
   "id": "e3de5196c10c3784",
   "execution_count": null
  },
  {
   "cell_type": "code",
   "outputs": [],
   "source": [],
   "metadata": {
    "collapsed": false,
    "ExecuteTime": {
     "start_time": "2024-02-01T15:53:54.361334600Z"
    }
   },
   "id": "545b744416c8c9f2"
  }
 ],
 "metadata": {
  "kernelspec": {
   "display_name": "Python 3",
   "language": "python",
   "name": "python3"
  },
  "language_info": {
   "codemirror_mode": {
    "name": "ipython",
    "version": 2
   },
   "file_extension": ".py",
   "mimetype": "text/x-python",
   "name": "python",
   "nbconvert_exporter": "python",
   "pygments_lexer": "ipython2",
   "version": "2.7.6"
  }
 },
 "nbformat": 4,
 "nbformat_minor": 5
}
