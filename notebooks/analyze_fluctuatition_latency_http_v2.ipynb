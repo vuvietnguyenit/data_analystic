{
 "cells": [
  {
   "cell_type": "markdown",
   "metadata": {},
   "source": [
    "### Project: Analyze fluctuations in HTTP request latency data to determine reliability\n",
    "\n",
    "- Load data (.csv) to dataframe\n",
    "- Standardize and cleaning data\n",
    "- Expore data\n",
    "- Analyze data:\n",
    "    ABC\n",
    "- Apply model"
   ]
  },
  {
   "cell_type": "code",
   "execution_count": 100,
   "metadata": {},
   "outputs": [],
   "source": [
    "import matplotlib.pyplot as plt\n",
    "import pandas as pd\n",
    "import warnings\n",
    "\n",
    "warnings.simplefilter(action='ignore', category=FutureWarning)\n",
    "pd.options.mode.chained_assignment = None"
   ]
  },
  {
   "cell_type": "code",
   "execution_count": 101,
   "metadata": {},
   "outputs": [],
   "source": [
    "# Load dataset from CSV file\n",
    "root_df = pd.read_csv('../statics/csv/raw_data.csv')"
   ]
  },
  {
   "cell_type": "markdown",
   "metadata": {},
   "source": [
    "Dataset là những dữ liệu thời gian thực (time-series data) liên quan đến thông tin độ trễ (latency) từ người dùng truy cập dịch vụ.\n",
    "\n",
    "**Details:**\n",
    "\n",
    "*Dữ liệu là các metrics được trích xuất từ Prometheus. Metrics này liên quan đến thông tin request từ client được gửi tới Proxy. Các Exporter collect metrics từ proxy và đẩy nó về Prometheus database.* "
   ]
  },
  {
   "cell_type": "markdown",
   "metadata": {},
   "source": [
    "### Standardize and cleaning data"
   ]
  },
  {
   "cell_type": "code",
   "execution_count": 102,
   "metadata": {},
   "outputs": [
    {
     "name": "stdout",
     "output_type": "stream",
     "text": [
      "Columns will be drop:  ['__name__', 'app', 'controller_class', 'controller_namespace', 'host', 'ingress', 'job', 'kubernetes_namespace', 'namespace', 'ns', 'path', 'pod_template_hash', 'service']\n"
     ]
    },
    {
     "data": {
      "text/html": [
       "<div>\n",
       "<style scoped>\n",
       "    .dataframe tbody tr th:only-of-type {\n",
       "        vertical-align: middle;\n",
       "    }\n",
       "\n",
       "    .dataframe tbody tr th {\n",
       "        vertical-align: top;\n",
       "    }\n",
       "\n",
       "    .dataframe thead th {\n",
       "        text-align: right;\n",
       "    }\n",
       "</style>\n",
       "<table border=\"1\" class=\"dataframe\">\n",
       "  <thead>\n",
       "    <tr style=\"text-align: right;\">\n",
       "      <th></th>\n",
       "      <th>timestamp</th>\n",
       "      <th>controller_pod</th>\n",
       "      <th>instance</th>\n",
       "      <th>kubernetes_node</th>\n",
       "      <th>kubernetes_pod_name</th>\n",
       "      <th>le</th>\n",
       "      <th>method</th>\n",
       "      <th>status</th>\n",
       "      <th>value</th>\n",
       "    </tr>\n",
       "  </thead>\n",
       "  <tbody>\n",
       "    <tr>\n",
       "      <th>0</th>\n",
       "      <td>2024-02-05 07:04:30</td>\n",
       "      <td>ingress-nginx-controller-browser-prod-6667d78f...</td>\n",
       "      <td>172.16.16.96:10254</td>\n",
       "      <td>br-ingress2v.itim.vn</td>\n",
       "      <td>ingress-nginx-controller-browser-prod-6667d78f...</td>\n",
       "      <td>inf</td>\n",
       "      <td>DELETE</td>\n",
       "      <td>308</td>\n",
       "      <td>13</td>\n",
       "    </tr>\n",
       "    <tr>\n",
       "      <th>1</th>\n",
       "      <td>2024-02-05 07:05:00</td>\n",
       "      <td>ingress-nginx-controller-browser-prod-6667d78f...</td>\n",
       "      <td>172.16.16.96:10254</td>\n",
       "      <td>br-ingress2v.itim.vn</td>\n",
       "      <td>ingress-nginx-controller-browser-prod-6667d78f...</td>\n",
       "      <td>inf</td>\n",
       "      <td>DELETE</td>\n",
       "      <td>308</td>\n",
       "      <td>13</td>\n",
       "    </tr>\n",
       "    <tr>\n",
       "      <th>2</th>\n",
       "      <td>2024-02-05 07:05:30</td>\n",
       "      <td>ingress-nginx-controller-browser-prod-6667d78f...</td>\n",
       "      <td>172.16.16.96:10254</td>\n",
       "      <td>br-ingress2v.itim.vn</td>\n",
       "      <td>ingress-nginx-controller-browser-prod-6667d78f...</td>\n",
       "      <td>inf</td>\n",
       "      <td>DELETE</td>\n",
       "      <td>308</td>\n",
       "      <td>13</td>\n",
       "    </tr>\n",
       "    <tr>\n",
       "      <th>3</th>\n",
       "      <td>2024-02-05 07:06:00</td>\n",
       "      <td>ingress-nginx-controller-browser-prod-6667d78f...</td>\n",
       "      <td>172.16.16.96:10254</td>\n",
       "      <td>br-ingress2v.itim.vn</td>\n",
       "      <td>ingress-nginx-controller-browser-prod-6667d78f...</td>\n",
       "      <td>inf</td>\n",
       "      <td>DELETE</td>\n",
       "      <td>308</td>\n",
       "      <td>13</td>\n",
       "    </tr>\n",
       "    <tr>\n",
       "      <th>4</th>\n",
       "      <td>2024-02-05 07:06:30</td>\n",
       "      <td>ingress-nginx-controller-browser-prod-6667d78f...</td>\n",
       "      <td>172.16.16.96:10254</td>\n",
       "      <td>br-ingress2v.itim.vn</td>\n",
       "      <td>ingress-nginx-controller-browser-prod-6667d78f...</td>\n",
       "      <td>inf</td>\n",
       "      <td>DELETE</td>\n",
       "      <td>308</td>\n",
       "      <td>13</td>\n",
       "    </tr>\n",
       "  </tbody>\n",
       "</table>\n",
       "</div>"
      ],
      "text/plain": [
       "            timestamp                                     controller_pod  \\\n",
       "0 2024-02-05 07:04:30  ingress-nginx-controller-browser-prod-6667d78f...   \n",
       "1 2024-02-05 07:05:00  ingress-nginx-controller-browser-prod-6667d78f...   \n",
       "2 2024-02-05 07:05:30  ingress-nginx-controller-browser-prod-6667d78f...   \n",
       "3 2024-02-05 07:06:00  ingress-nginx-controller-browser-prod-6667d78f...   \n",
       "4 2024-02-05 07:06:30  ingress-nginx-controller-browser-prod-6667d78f...   \n",
       "\n",
       "             instance       kubernetes_node  \\\n",
       "0  172.16.16.96:10254  br-ingress2v.itim.vn   \n",
       "1  172.16.16.96:10254  br-ingress2v.itim.vn   \n",
       "2  172.16.16.96:10254  br-ingress2v.itim.vn   \n",
       "3  172.16.16.96:10254  br-ingress2v.itim.vn   \n",
       "4  172.16.16.96:10254  br-ingress2v.itim.vn   \n",
       "\n",
       "                                 kubernetes_pod_name   le  method  status  \\\n",
       "0  ingress-nginx-controller-browser-prod-6667d78f...  inf  DELETE     308   \n",
       "1  ingress-nginx-controller-browser-prod-6667d78f...  inf  DELETE     308   \n",
       "2  ingress-nginx-controller-browser-prod-6667d78f...  inf  DELETE     308   \n",
       "3  ingress-nginx-controller-browser-prod-6667d78f...  inf  DELETE     308   \n",
       "4  ingress-nginx-controller-browser-prod-6667d78f...  inf  DELETE     308   \n",
       "\n",
       "   value  \n",
       "0     13  \n",
       "1     13  \n",
       "2     13  \n",
       "3     13  \n",
       "4     13  "
      ]
     },
     "execution_count": 102,
     "metadata": {},
     "output_type": "execute_result"
    }
   ],
   "source": [
    "# Clean data\n",
    "# Select related columns\n",
    "cols = root_df.columns.to_list()\n",
    "colums_drop = []\n",
    "for col in cols:\n",
    "    num_row = root_df.drop_duplicates(subset=col).__len__()\n",
    "    if num_row == 1:\n",
    "        colums_drop.append(col)\n",
    "# Show columns will be drop\n",
    "print(\"Columns will be drop: \", colums_drop)\n",
    "root_df = root_df.drop(columns=colums_drop) # Only select column selected\n",
    "# Rename columns\n",
    "cols_rename_dict = {\n",
    "    \"Time\": \"timestamp\",\n",
    "    \"Value #A\": \"value\"\n",
    "}\n",
    "root_df = root_df.rename(columns=cols_rename_dict)\n",
    "# Change datetime format for column \"timestamp\"\n",
    "root_df['timestamp'] = pd.to_datetime(root_df[\"timestamp\"], unit=\"ms\")\n",
    "root_df.head()"
   ]
  },
  {
   "cell_type": "markdown",
   "metadata": {},
   "source": [
    "Trên đây dataset liên quan đến thống kê truy cập từ client sau khi thông qua các bước clean và standardilize. Thông tin các cột xuất hiện trong bảng dữ liệu:\n",
    "- timestamp: Dấu thời gian, biểu thị số liệu tại thời điểm đó\n",
    "- le: Latency, các buckets latency (hay còn gọi là các bins theo cách gọi của histogram).\n",
    "- status: HTTP status return by service\n",
    "- method: HTTP method\n",
    "- value: Giá trị của latency tại thời điểm timestamp, nó sẽ luôn luôn tăng (counter) vì toàn bộ số lượng request gửi tới server từ trước tới nay luôn luôn tăng chứ không giảm.\n",
    "\n",
    "*Note*\n",
    "\n",
    "- Dữ liệu trên được scrape từ Proxy sau mỗi 5 minutes (interval=5m) và được aggregate trong thời gian đó, vì vậy timestamp luôn luôn có delta_t = 5 minutes.\n",
    "- Việc lưu thông tin về request liên quan đến latency sử dụng các buckets để thống kê giúp cho việc giảm thiểu tài nguyên lưu trữ thay vì lưu lại duration_time cho mỗi request cụ thể. Vì vậy nó giúp cho việc overview tình trạng latency service hiệu quả hơn (dễ dàng overview bằng histogram). Tuy nhiên, sẽ phải đánh đổi về độ chính xác của metrics, đặc biệt là khi có những request có latency cực cao hoặc cực thấp thì histogram sẽ không phản ánh rõ được điều đó. "
   ]
  },
  {
   "cell_type": "markdown",
   "metadata": {},
   "source": [
    "### Explore data"
   ]
  },
  {
   "cell_type": "markdown",
   "metadata": {},
   "source": [
    "Đầu tiên sẽ thực hiện khám phá dataset đang xét xem có điều gì bất thường đối với tập dữ liệu đó không. Bởi dataset trên đang sử dụng cho mục đích phân tích dữ liệu liên quan đến latency của service. Nên giá trị cần lưu ý trong tập dữ liệu trên là **timestamp và value** sẽ ưu tiên để đánh giá những bất thường. "
   ]
  },
  {
   "cell_type": "markdown",
   "metadata": {},
   "source": [
    "Thực hiện vẽ biểu đồ đánh giá tổng quan theo time-series để xem xét việc tăng trưởng request đối với hệ thống"
   ]
  },
  {
   "cell_type": "code",
   "execution_count": 112,
   "metadata": {},
   "outputs": [
    {
     "data": {
      "text/plain": [
       "<Axes: xlabel='timestamp'>"
      ]
     },
     "execution_count": 112,
     "metadata": {},
     "output_type": "execute_result"
    },
    {
     "data": {
      "image/png": "[encoded data removed]",
      "text/plain": [
       "<Figure size 1000x400 with 1 Axes>"
      ]
     },
     "metadata": {},
     "output_type": "display_data"
    }
   ],
   "source": [
    "root_df.groupby(['timestamp']).agg({'value': 'sum'}).reset_index().set_index(\"timestamp\").sort_index().plot(figsize=(10, 4), grid=True)"
   ]
  },
  {
   "cell_type": "markdown",
   "metadata": {},
   "source": [
    "Oh, có vẻ có bất thường gì đó đối với dataset. Quan sát thấy ngưỡng thời gian trong khoảng từ [7:25 -> 7:28] số lượng request tăng vọt. Vậy vấn đề ở đây là gì?"
   ]
  }
 ],
 "metadata": {
  "kernelspec": {
   "display_name": "Python 3",
   "language": "python",
   "name": "python3"
  },
  "language_info": {
   "codemirror_mode": {
    "name": "ipython",
    "version": 3
   },
   "file_extension": ".py",
   "mimetype": "text/x-python",
   "name": "python",
   "nbconvert_exporter": "python",
   "pygments_lexer": "ipython3",
   "version": "3.10.0"
  }
 },
 "nbformat": 4,
 "nbformat_minor": 2
}
