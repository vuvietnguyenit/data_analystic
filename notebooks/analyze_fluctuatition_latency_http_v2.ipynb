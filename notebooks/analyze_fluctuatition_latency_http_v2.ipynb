{
 "cells": [
  {
   "cell_type": "markdown",
   "metadata": {},
   "source": [
    "### Project: Analyze fluctuations in HTTP request latency data to determine reliability\n",
    "\n",
    "- Load data (.csv) to dataframe\n",
    "- Standardize and cleaning data\n",
    "- Analyze data:\n",
    "    ABC\n",
    "- Apply model"
   ]
  },
  {
   "cell_type": "code",
   "execution_count": 9,
   "metadata": {},
   "outputs": [],
   "source": [
    "import matplotlib.pyplot as plt\n",
    "import pandas as pd\n",
    "import warnings\n",
    "\n",
    "warnings.simplefilter(action='ignore', category=FutureWarning)\n",
    "pd.options.mode.chained_assignment = None"
   ]
  },
  {
   "cell_type": "code",
   "execution_count": 10,
   "metadata": {},
   "outputs": [],
   "source": [
    "# Load dataset from CSV file\n",
    "root_df = pd.read_csv('../statics/csv/raw_data.csv')"
   ]
  },
  {
   "cell_type": "markdown",
   "metadata": {},
   "source": [
    "Dataset là những dữ liệu thời gian thực (time-series data) liên quan đến thông tin độ trễ (latency) từ người dùng truy cập dịch vụ.\n",
    "\n",
    "**Details:**\n",
    "\n",
    "*Dữ liệu là các metrics được trích xuất từ Prometheus. Metrics này liên quan đến thông tin request từ client được gửi tới Proxy. Các Exporter collect metrics từ proxy và đẩy nó về Prometheus database.* "
   ]
  },
  {
   "cell_type": "markdown",
   "metadata": {},
   "source": [
    "### Standardize and cleaning data"
   ]
  },
  {
   "cell_type": "code",
   "execution_count": 11,
   "metadata": {},
   "outputs": [
    {
     "name": "stdout",
     "output_type": "stream",
     "text": [
      "Columns will be drop:  ['__name__', 'app', 'controller_class', 'controller_namespace', 'controller_pod', 'host', 'ingress', 'instance', 'job', 'kubernetes_namespace', 'kubernetes_node', 'kubernetes_pod_name', 'method', 'namespace', 'ns', 'path', 'pod_template_hash', 'service']\n"
     ]
    },
    {
     "data": {
      "text/html": [
       "<div>\n",
       "<style scoped>\n",
       "    .dataframe tbody tr th:only-of-type {\n",
       "        vertical-align: middle;\n",
       "    }\n",
       "\n",
       "    .dataframe tbody tr th {\n",
       "        vertical-align: top;\n",
       "    }\n",
       "\n",
       "    .dataframe thead th {\n",
       "        text-align: right;\n",
       "    }\n",
       "</style>\n",
       "<table border=\"1\" class=\"dataframe\">\n",
       "  <thead>\n",
       "    <tr style=\"text-align: right;\">\n",
       "      <th></th>\n",
       "      <th>timestamp</th>\n",
       "      <th>le</th>\n",
       "      <th>status</th>\n",
       "      <th>value</th>\n",
       "    </tr>\n",
       "  </thead>\n",
       "  <tbody>\n",
       "    <tr>\n",
       "      <th>0</th>\n",
       "      <td>2024-02-06 17:00:00</td>\n",
       "      <td>inf</td>\n",
       "      <td>200</td>\n",
       "      <td>109909316</td>\n",
       "    </tr>\n",
       "    <tr>\n",
       "      <th>1</th>\n",
       "      <td>2024-02-06 17:05:00</td>\n",
       "      <td>inf</td>\n",
       "      <td>200</td>\n",
       "      <td>109911193</td>\n",
       "    </tr>\n",
       "    <tr>\n",
       "      <th>2</th>\n",
       "      <td>2024-02-06 17:00:00</td>\n",
       "      <td>inf</td>\n",
       "      <td>206</td>\n",
       "      <td>10882</td>\n",
       "    </tr>\n",
       "    <tr>\n",
       "      <th>3</th>\n",
       "      <td>2024-02-06 17:05:00</td>\n",
       "      <td>inf</td>\n",
       "      <td>206</td>\n",
       "      <td>10882</td>\n",
       "    </tr>\n",
       "    <tr>\n",
       "      <th>4</th>\n",
       "      <td>2024-02-06 17:00:00</td>\n",
       "      <td>inf</td>\n",
       "      <td>304</td>\n",
       "      <td>10409248</td>\n",
       "    </tr>\n",
       "  </tbody>\n",
       "</table>\n",
       "</div>"
      ],
      "text/plain": [
       "            timestamp   le  status      value\n",
       "0 2024-02-06 17:00:00  inf     200  109909316\n",
       "1 2024-02-06 17:05:00  inf     200  109911193\n",
       "2 2024-02-06 17:00:00  inf     206      10882\n",
       "3 2024-02-06 17:05:00  inf     206      10882\n",
       "4 2024-02-06 17:00:00  inf     304   10409248"
      ]
     },
     "execution_count": 11,
     "metadata": {},
     "output_type": "execute_result"
    }
   ],
   "source": [
    "# Clean data\n",
    "# Select related columns\n",
    "cols = root_df.columns.to_list()\n",
    "colums_drop = []\n",
    "for col in cols:\n",
    "    num_row = root_df.drop_duplicates(subset=col).__len__()\n",
    "    if num_row == 1:\n",
    "        colums_drop.append(col)\n",
    "# Show columns will be drop\n",
    "print(\"Columns will be drop: \", colums_drop)\n",
    "root_df = root_df.drop(columns=colums_drop) # Only select column selected\n",
    "# Rename columns\n",
    "cols_rename_dict = {\n",
    "    \"Time\": \"timestamp\",\n",
    "    \"Value\": \"value\"\n",
    "}\n",
    "root_df = root_df.rename(columns=cols_rename_dict)\n",
    "# Change datetime format for column \"timestamp\"\n",
    "root_df['timestamp'] = pd.to_datetime(root_df[\"timestamp\"], unit=\"ms\")\n",
    "root_df.head()"
   ]
  },
  {
   "cell_type": "markdown",
   "metadata": {},
   "source": [
    "Trên đây dataset liên quan đến thống kê truy cập từ client sau khi thông qua các bước clean và standardilize. Thông tin các cột xuất hiện trong bảng dữ liệu:\n",
    "- timestamp: Dấu thời gian, biểu thị số liệu tại thời điểm đó\n",
    "- le: Latency, các buckets latency (hay còn gọi là các bins theo cách gọi của histogram).\n",
    "- status: HTTP status return by service\n",
    "- value: Giá trị của latency tại thời điểm timestamp, nó sẽ luôn luôn tăng (counter) vì toàn bộ số lượng request gửi tới server từ trước tới nay luôn luôn tăng chứ không giảm.\n",
    "\n",
    "*Note*\n",
    "\n",
    "- Dữ liệu trên được scrape từ Proxy sau mỗi 5 minutes (interval=5m) và được aggregate trong thời gian đó, vì vậy timestamp luôn luôn có delta_t = 5 minutes.\n",
    "- Việc lưu thông tin về request liên quan đến latency sử dụng các buckets để thống kê giúp cho việc giảm thiểu tài nguyên lưu trữ thay vì lưu lại duration_time cho mỗi request cụ thể. Vì vậy nó giúp cho việc overview tình trạng latency service hiệu quả hơn (dễ dàng overview bằng histogram). Tuy nhiên, sẽ phải đánh đổi về độ chính xác của metrics, đặc biệt là khi có những request có latency cực cao hoặc cực thấp thì histogram sẽ không phản ánh rõ được điều đó. "
   ]
  }
 ],
 "metadata": {
  "kernelspec": {
   "display_name": "Python 3",
   "language": "python",
   "name": "python3"
  },
  "language_info": {
   "codemirror_mode": {
    "name": "ipython",
    "version": 3
   },
   "file_extension": ".py",
   "mimetype": "text/x-python",
   "name": "python",
   "nbconvert_exporter": "python",
   "pygments_lexer": "ipython3",
   "version": "3.10.0"
  }
 },
 "nbformat": 4,
 "nbformat_minor": 2
}
