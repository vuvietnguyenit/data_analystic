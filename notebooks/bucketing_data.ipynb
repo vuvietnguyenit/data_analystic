{
 "cells": [
  {
   "cell_type": "code",
   "outputs": [],
   "source": [
    "# warnings....ignore\n",
    "import warnings\n",
    "\n",
    "warnings.simplefilter(action='ignore', category=FutureWarning)\n",
    "\n",
    "import pandas as pd\n",
    "\n",
    "pd.options.mode.chained_assignment = None"
   ],
   "metadata": {
    "collapsed": false,
    "ExecuteTime": {
     "end_time": "2024-02-01T14:58:28.418977100Z",
     "start_time": "2024-02-01T14:58:28.411976500Z"
    }
   },
   "id": "bbedb9cd498ec4e8",
   "execution_count": 14
  },
  {
   "cell_type": "code",
   "execution_count": 15,
   "id": "initial_id",
   "metadata": {
    "collapsed": true,
    "ExecuteTime": {
     "end_time": "2024-02-01T14:58:28.455378200Z",
     "start_time": "2024-02-01T14:58:28.413975900Z"
    }
   },
   "outputs": [],
   "source": [
    "DATA = []\n",
    "BUCKETS = [0.005, 0.01, 0.025, 0.05, 0.1, 0.25, 0.5, 1, 2]\n",
    "TIME_VECTOR = 5  # second"
   ]
  },
  {
   "cell_type": "code",
   "outputs": [],
   "source": [
    "import json\n",
    "\n",
    "\n",
    "def get_data_from_file(filename: str):\n",
    "    f = open(filename, \"r\")\n",
    "    while True:\n",
    "        line = f.readline()\n",
    "        if not line:\n",
    "            break\n",
    "        # Standardize json to dict\n",
    "        row = json.loads(line)\n",
    "        # Append to Array\n",
    "        DATA.append(row)"
   ],
   "metadata": {
    "collapsed": false,
    "ExecuteTime": {
     "end_time": "2024-02-01T14:58:28.455378200Z",
     "start_time": "2024-02-01T14:58:28.429381200Z"
    }
   },
   "id": "537e3fd170b27a4f",
   "execution_count": 16
  },
  {
   "cell_type": "code",
   "outputs": [],
   "source": [
    "get_data_from_file(\"../statics/request_data_with_anomaly_pod_instance.json\")"
   ],
   "metadata": {
    "collapsed": false,
    "ExecuteTime": {
     "end_time": "2024-02-01T14:58:28.584972300Z",
     "start_time": "2024-02-01T14:58:28.434384800Z"
    }
   },
   "id": "fd241967a07d1ce6",
   "execution_count": 17
  },
  {
   "cell_type": "code",
   "outputs": [],
   "source": [
    "group_by_el = [\"path\", \"method\", \"service_name\", \"controller_pod\"]"
   ],
   "metadata": {
    "collapsed": false,
    "ExecuteTime": {
     "end_time": "2024-02-01T14:58:28.596942700Z",
     "start_time": "2024-02-01T14:58:28.588860600Z"
    }
   },
   "id": "27635ed1caa37b9e",
   "execution_count": 18
  },
  {
   "cell_type": "code",
   "outputs": [],
   "source": [
    "# Create dataframe\n",
    "root_df = pd.DataFrame(DATA)"
   ],
   "metadata": {
    "collapsed": false,
    "ExecuteTime": {
     "end_time": "2024-02-01T14:58:28.632099Z",
     "start_time": "2024-02-01T14:58:28.591861700Z"
    }
   },
   "id": "37e8554bc2895458",
   "execution_count": 19
  },
  {
   "cell_type": "code",
   "outputs": [
    {
     "data": {
      "text/plain": "              timestamp    path method service_name controller_pod  \\\n0  01/02/2024, 10:42:25  /users    GET  process_log          pod-2   \n1  01/02/2024, 10:42:26  /users    GET  process_log          pod-2   \n2  01/02/2024, 10:42:26   /home    GET  process_log          pod-2   \n3  01/02/2024, 10:42:26  /users    GET  process_log          pod-2   \n4  01/02/2024, 10:42:27   /home    GET  process_log          pod-1   \n\n   duration_time  \n0          0.395  \n1          0.669  \n2          0.511  \n3          0.439  \n4          0.236  ",
      "text/html": "<div>\n<style scoped>\n    .dataframe tbody tr th:only-of-type {\n        vertical-align: middle;\n    }\n\n    .dataframe tbody tr th {\n        vertical-align: top;\n    }\n\n    .dataframe thead th {\n        text-align: right;\n    }\n</style>\n<table border=\"1\" class=\"dataframe\">\n  <thead>\n    <tr style=\"text-align: right;\">\n      <th></th>\n      <th>timestamp</th>\n      <th>path</th>\n      <th>method</th>\n      <th>service_name</th>\n      <th>controller_pod</th>\n      <th>duration_time</th>\n    </tr>\n  </thead>\n  <tbody>\n    <tr>\n      <th>0</th>\n      <td>01/02/2024, 10:42:25</td>\n      <td>/users</td>\n      <td>GET</td>\n      <td>process_log</td>\n      <td>pod-2</td>\n      <td>0.395</td>\n    </tr>\n    <tr>\n      <th>1</th>\n      <td>01/02/2024, 10:42:26</td>\n      <td>/users</td>\n      <td>GET</td>\n      <td>process_log</td>\n      <td>pod-2</td>\n      <td>0.669</td>\n    </tr>\n    <tr>\n      <th>2</th>\n      <td>01/02/2024, 10:42:26</td>\n      <td>/home</td>\n      <td>GET</td>\n      <td>process_log</td>\n      <td>pod-2</td>\n      <td>0.511</td>\n    </tr>\n    <tr>\n      <th>3</th>\n      <td>01/02/2024, 10:42:26</td>\n      <td>/users</td>\n      <td>GET</td>\n      <td>process_log</td>\n      <td>pod-2</td>\n      <td>0.439</td>\n    </tr>\n    <tr>\n      <th>4</th>\n      <td>01/02/2024, 10:42:27</td>\n      <td>/home</td>\n      <td>GET</td>\n      <td>process_log</td>\n      <td>pod-1</td>\n      <td>0.236</td>\n    </tr>\n  </tbody>\n</table>\n</div>"
     },
     "execution_count": 20,
     "metadata": {},
     "output_type": "execute_result"
    }
   ],
   "source": [
    "root_df.head()"
   ],
   "metadata": {
    "collapsed": false,
    "ExecuteTime": {
     "end_time": "2024-02-01T14:58:28.648323200Z",
     "start_time": "2024-02-01T14:58:28.639693Z"
    }
   },
   "id": "d040cffd69e41508",
   "execution_count": 20
  },
  {
   "cell_type": "code",
   "outputs": [
    {
     "data": {
      "text/plain": "                   timestamp    path method service_name controller_pod  \\\n0       01/02/2024, 10:42:25  /users    GET  process_log          pod-2   \n1       01/02/2024, 10:42:25  /users    GET  process_log          pod-2   \n2       01/02/2024, 10:42:25  /users    GET  process_log          pod-2   \n3       01/02/2024, 10:42:25  /users    GET  process_log          pod-2   \n4       01/02/2024, 10:42:26  /users    GET  process_log          pod-2   \n...                      ...     ...    ...          ...            ...   \n143730  01/02/2024, 14:38:01  /users    GET  process_log          pod-2   \n143731  01/02/2024, 14:38:02  /users    GET  process_log          pod-2   \n143732  01/02/2024, 14:38:02  /users    GET  process_log          pod-2   \n143733  01/02/2024, 14:38:02  /users    GET  process_log          pod-2   \n143734  01/02/2024, 14:38:02  /users    GET  process_log          pod-2   \n\n        duration_time    le  \n0               0.395   0.5  \n1               0.395     1  \n2               0.395     2  \n3               0.395  +Inf  \n4               0.669     1  \n...               ...   ...  \n143730          0.363  +Inf  \n143731          0.274   0.5  \n143732          0.274     1  \n143733          0.274     2  \n143734          0.274  +Inf  \n\n[143735 rows x 7 columns]",
      "text/html": "<div>\n<style scoped>\n    .dataframe tbody tr th:only-of-type {\n        vertical-align: middle;\n    }\n\n    .dataframe tbody tr th {\n        vertical-align: top;\n    }\n\n    .dataframe thead th {\n        text-align: right;\n    }\n</style>\n<table border=\"1\" class=\"dataframe\">\n  <thead>\n    <tr style=\"text-align: right;\">\n      <th></th>\n      <th>timestamp</th>\n      <th>path</th>\n      <th>method</th>\n      <th>service_name</th>\n      <th>controller_pod</th>\n      <th>duration_time</th>\n      <th>le</th>\n    </tr>\n  </thead>\n  <tbody>\n    <tr>\n      <th>0</th>\n      <td>01/02/2024, 10:42:25</td>\n      <td>/users</td>\n      <td>GET</td>\n      <td>process_log</td>\n      <td>pod-2</td>\n      <td>0.395</td>\n      <td>0.5</td>\n    </tr>\n    <tr>\n      <th>1</th>\n      <td>01/02/2024, 10:42:25</td>\n      <td>/users</td>\n      <td>GET</td>\n      <td>process_log</td>\n      <td>pod-2</td>\n      <td>0.395</td>\n      <td>1</td>\n    </tr>\n    <tr>\n      <th>2</th>\n      <td>01/02/2024, 10:42:25</td>\n      <td>/users</td>\n      <td>GET</td>\n      <td>process_log</td>\n      <td>pod-2</td>\n      <td>0.395</td>\n      <td>2</td>\n    </tr>\n    <tr>\n      <th>3</th>\n      <td>01/02/2024, 10:42:25</td>\n      <td>/users</td>\n      <td>GET</td>\n      <td>process_log</td>\n      <td>pod-2</td>\n      <td>0.395</td>\n      <td>+Inf</td>\n    </tr>\n    <tr>\n      <th>4</th>\n      <td>01/02/2024, 10:42:26</td>\n      <td>/users</td>\n      <td>GET</td>\n      <td>process_log</td>\n      <td>pod-2</td>\n      <td>0.669</td>\n      <td>1</td>\n    </tr>\n    <tr>\n      <th>...</th>\n      <td>...</td>\n      <td>...</td>\n      <td>...</td>\n      <td>...</td>\n      <td>...</td>\n      <td>...</td>\n      <td>...</td>\n    </tr>\n    <tr>\n      <th>143730</th>\n      <td>01/02/2024, 14:38:01</td>\n      <td>/users</td>\n      <td>GET</td>\n      <td>process_log</td>\n      <td>pod-2</td>\n      <td>0.363</td>\n      <td>+Inf</td>\n    </tr>\n    <tr>\n      <th>143731</th>\n      <td>01/02/2024, 14:38:02</td>\n      <td>/users</td>\n      <td>GET</td>\n      <td>process_log</td>\n      <td>pod-2</td>\n      <td>0.274</td>\n      <td>0.5</td>\n    </tr>\n    <tr>\n      <th>143732</th>\n      <td>01/02/2024, 14:38:02</td>\n      <td>/users</td>\n      <td>GET</td>\n      <td>process_log</td>\n      <td>pod-2</td>\n      <td>0.274</td>\n      <td>1</td>\n    </tr>\n    <tr>\n      <th>143733</th>\n      <td>01/02/2024, 14:38:02</td>\n      <td>/users</td>\n      <td>GET</td>\n      <td>process_log</td>\n      <td>pod-2</td>\n      <td>0.274</td>\n      <td>2</td>\n    </tr>\n    <tr>\n      <th>143734</th>\n      <td>01/02/2024, 14:38:02</td>\n      <td>/users</td>\n      <td>GET</td>\n      <td>process_log</td>\n      <td>pod-2</td>\n      <td>0.274</td>\n      <td>+Inf</td>\n    </tr>\n  </tbody>\n</table>\n<p>143735 rows × 7 columns</p>\n</div>"
     },
     "execution_count": 25,
     "metadata": {},
     "output_type": "execute_result"
    }
   ],
   "source": [
    "\n",
    "arr_data = []\n",
    "\n",
    "\n",
    "# BUCKETS = [0.005, 0.01, 0.025, 0.05, 0.1, 0.25, 0.5, 1, 2]\n",
    "def bucketing(row_data: pd.Series):\n",
    "    duration_time = row_data[\"duration_time\"]\n",
    "    for bucket in BUCKETS:\n",
    "        if duration_time <= bucket:\n",
    "            row = {\n",
    "                \"timestamp\": row_data.timestamp,\n",
    "                \"path\": row_data.path,\n",
    "                \"method\": row_data.method,\n",
    "                \"service_name\": row_data.service_name,\n",
    "                \"controller_pod\": row_data.controller_pod,\n",
    "                \"duration_time\": duration_time,\n",
    "                \"le\": str(bucket)\n",
    "            }\n",
    "            arr_data.append(row)\n",
    "    # Always append bucket +Inf\n",
    "    arr_data.append({\n",
    "        \"timestamp\": row_data.timestamp,\n",
    "        \"path\": row_data.path,\n",
    "        \"method\": row_data.method,\n",
    "        \"service_name\": row_data.service_name,\n",
    "        \"duration_time\": duration_time,\n",
    "        \"controller_pod\": row_data.controller_pod,\n",
    "        \"le\": \"+Inf\"\n",
    "    })\n",
    "    # print(arr_data)\n",
    "\n",
    "\n",
    "root_df.apply(lambda x: bucketing(x), axis=1)\n",
    "df_with_bucketed = pd.DataFrame.from_records(arr_data)\n",
    "df_with_bucketed"
   ],
   "metadata": {
    "collapsed": false,
    "ExecuteTime": {
     "end_time": "2024-02-01T15:01:53.459140600Z",
     "start_time": "2024-02-01T15:01:51.032321600Z"
    }
   },
   "id": "54c6754c41a0f661",
   "execution_count": 25
  },
  {
   "cell_type": "code",
   "outputs": [],
   "source": [
    "from datetime import datetime\n",
    "\n",
    "df_with_bucketed['timestamp'] = df_with_bucketed['timestamp'].apply(\n",
    "    lambda x: datetime.strptime(x, \"%d/%m/%Y, %H:%M:%S\"))\n",
    "# Convert to datetime pandas and set datetime columns is index for dataframe\n",
    "df_with_bucketed['timestamp'] = pd.to_datetime(root_df['timestamp'])\n",
    "df_with_bucketed = df_with_bucketed.set_index('timestamp')"
   ],
   "metadata": {
    "collapsed": false,
    "ExecuteTime": {
     "end_time": "2024-02-01T14:58:32.977035500Z",
     "start_time": "2024-02-01T14:58:31.647659600Z"
    }
   },
   "id": "600347e8113786f0",
   "execution_count": 22
  },
  {
   "cell_type": "code",
   "outputs": [
    {
     "data": {
      "text/plain": "                      path method service_name controller_pod  duration_time  \\\ntimestamp                                                                      \n2024-01-02 10:42:32  /home    GET  process_log          pod-1          0.236   \n2024-01-02 10:42:47  /home    GET  process_log          pod-1          0.462   \n2024-01-02 10:42:57  /home    GET  process_log          pod-1          0.179   \n2024-01-02 10:42:58  /home    GET  process_log          pod-1          0.585   \n2024-01-02 10:43:07  /home    GET  process_log          pod-1          0.753   \n...                    ...    ...          ...            ...            ...   \nNaT                  /home    GET  process_log          pod-1          0.648   \nNaT                  /home    GET  process_log          pod-1          0.387   \nNaT                  /home    GET  process_log          pod-1          0.608   \nNaT                  /home    GET  process_log          pod-1          0.132   \nNaT                  /home    GET  process_log          pod-1          0.203   \n\n                       le  \ntimestamp                  \n2024-01-02 10:42:32  +Inf  \n2024-01-02 10:42:47  +Inf  \n2024-01-02 10:42:57  +Inf  \n2024-01-02 10:42:58  +Inf  \n2024-01-02 10:43:07  +Inf  \n...                   ...  \nNaT                  +Inf  \nNaT                  +Inf  \nNaT                  +Inf  \nNaT                  +Inf  \nNaT                  +Inf  \n\n[8845 rows x 6 columns]",
      "text/html": "<div>\n<style scoped>\n    .dataframe tbody tr th:only-of-type {\n        vertical-align: middle;\n    }\n\n    .dataframe tbody tr th {\n        vertical-align: top;\n    }\n\n    .dataframe thead th {\n        text-align: right;\n    }\n</style>\n<table border=\"1\" class=\"dataframe\">\n  <thead>\n    <tr style=\"text-align: right;\">\n      <th></th>\n      <th>path</th>\n      <th>method</th>\n      <th>service_name</th>\n      <th>controller_pod</th>\n      <th>duration_time</th>\n      <th>le</th>\n    </tr>\n    <tr>\n      <th>timestamp</th>\n      <th></th>\n      <th></th>\n      <th></th>\n      <th></th>\n      <th></th>\n      <th></th>\n    </tr>\n  </thead>\n  <tbody>\n    <tr>\n      <th>2024-01-02 10:42:32</th>\n      <td>/home</td>\n      <td>GET</td>\n      <td>process_log</td>\n      <td>pod-1</td>\n      <td>0.236</td>\n      <td>+Inf</td>\n    </tr>\n    <tr>\n      <th>2024-01-02 10:42:47</th>\n      <td>/home</td>\n      <td>GET</td>\n      <td>process_log</td>\n      <td>pod-1</td>\n      <td>0.462</td>\n      <td>+Inf</td>\n    </tr>\n    <tr>\n      <th>2024-01-02 10:42:57</th>\n      <td>/home</td>\n      <td>GET</td>\n      <td>process_log</td>\n      <td>pod-1</td>\n      <td>0.179</td>\n      <td>+Inf</td>\n    </tr>\n    <tr>\n      <th>2024-01-02 10:42:58</th>\n      <td>/home</td>\n      <td>GET</td>\n      <td>process_log</td>\n      <td>pod-1</td>\n      <td>0.585</td>\n      <td>+Inf</td>\n    </tr>\n    <tr>\n      <th>2024-01-02 10:43:07</th>\n      <td>/home</td>\n      <td>GET</td>\n      <td>process_log</td>\n      <td>pod-1</td>\n      <td>0.753</td>\n      <td>+Inf</td>\n    </tr>\n    <tr>\n      <th>...</th>\n      <td>...</td>\n      <td>...</td>\n      <td>...</td>\n      <td>...</td>\n      <td>...</td>\n      <td>...</td>\n    </tr>\n    <tr>\n      <th>NaT</th>\n      <td>/home</td>\n      <td>GET</td>\n      <td>process_log</td>\n      <td>pod-1</td>\n      <td>0.648</td>\n      <td>+Inf</td>\n    </tr>\n    <tr>\n      <th>NaT</th>\n      <td>/home</td>\n      <td>GET</td>\n      <td>process_log</td>\n      <td>pod-1</td>\n      <td>0.387</td>\n      <td>+Inf</td>\n    </tr>\n    <tr>\n      <th>NaT</th>\n      <td>/home</td>\n      <td>GET</td>\n      <td>process_log</td>\n      <td>pod-1</td>\n      <td>0.608</td>\n      <td>+Inf</td>\n    </tr>\n    <tr>\n      <th>NaT</th>\n      <td>/home</td>\n      <td>GET</td>\n      <td>process_log</td>\n      <td>pod-1</td>\n      <td>0.132</td>\n      <td>+Inf</td>\n    </tr>\n    <tr>\n      <th>NaT</th>\n      <td>/home</td>\n      <td>GET</td>\n      <td>process_log</td>\n      <td>pod-1</td>\n      <td>0.203</td>\n      <td>+Inf</td>\n    </tr>\n  </tbody>\n</table>\n<p>8845 rows × 6 columns</p>\n</div>"
     },
     "execution_count": 23,
     "metadata": {},
     "output_type": "execute_result"
    }
   ],
   "source": [
    "df_with_bucketed.query(\"path == '/home' and controller_pod == 'pod-1' and le == '+Inf'\")"
   ],
   "metadata": {
    "collapsed": false,
    "ExecuteTime": {
     "end_time": "2024-02-01T14:58:33.013583100Z",
     "start_time": "2024-02-01T14:58:32.978035200Z"
    }
   },
   "id": "8838ee451fe86ad6",
   "execution_count": 23
  },
  {
   "cell_type": "code",
   "outputs": [],
   "source": [
    "df_with_bucketed['count'] = df_with_bucketed.groupby(\n",
    "    ['path', 'method', 'controller_pod', 'service_name', 'le']).cumcount() + 1\n",
    "df_with_bucketed.groupby([pd.Grouper(freq=\"30s\"), 'path', 'method', 'controller_pod', 'service_name', 'le']).agg(\n",
    "    {'count': 'last'}).reset_index()[['timestamp', 'path', 'method', 'controller_pod', 'service_name', 'le', 'count']].to_csv('request_data_with_anomaly_pod_instance.csv')"
   ],
   "metadata": {
    "collapsed": false,
    "ExecuteTime": {
     "end_time": "2024-02-01T14:58:33.239526600Z",
     "start_time": "2024-02-01T14:58:33.012581400Z"
    }
   },
   "id": "38e431bfe41fc35f",
   "execution_count": 24
  }
 ],
 "metadata": {
  "kernelspec": {
   "display_name": "Python 3",
   "language": "python",
   "name": "python3"
  },
  "language_info": {
   "codemirror_mode": {
    "name": "ipython",
    "version": 2
   },
   "file_extension": ".py",
   "mimetype": "text/x-python",
   "name": "python",
   "nbconvert_exporter": "python",
   "pygments_lexer": "ipython2",
   "version": "2.7.6"
  }
 },
 "nbformat": 4,
 "nbformat_minor": 5
}
