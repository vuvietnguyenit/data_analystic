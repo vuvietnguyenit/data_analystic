{
 "cells": [
  {
   "cell_type": "code",
   "outputs": [],
   "source": [
    "# warnings....ignore\n",
    "import warnings\n",
    "\n",
    "warnings.simplefilter(action='ignore', category=FutureWarning)\n",
    "\n",
    "import pandas as pd\n",
    "\n",
    "pd.options.mode.chained_assignment = None"
   ],
   "metadata": {
    "collapsed": false,
    "ExecuteTime": {
     "end_time": "2024-02-01T08:56:58.148264700Z",
     "start_time": "2024-02-01T08:56:58.139753300Z"
    }
   },
   "id": "bbedb9cd498ec4e8",
   "execution_count": 10
  },
  {
   "cell_type": "code",
   "execution_count": 11,
   "id": "initial_id",
   "metadata": {
    "collapsed": true,
    "ExecuteTime": {
     "end_time": "2024-02-01T08:56:58.208874100Z",
     "start_time": "2024-02-01T08:56:58.145266600Z"
    }
   },
   "outputs": [],
   "source": [
    "DATA = []\n",
    "BUCKETS = [0.005, 0.01, 0.025, 0.05, 0.1, 0.25, 0.5, 1, 2]\n",
    "TIME_VECTOR = 5  # second"
   ]
  },
  {
   "cell_type": "code",
   "outputs": [],
   "source": [
    "import json\n",
    "\n",
    "\n",
    "def get_data_from_file(filename: str):\n",
    "    f = open(filename, \"r\")\n",
    "    while True:\n",
    "        line = f.readline()\n",
    "        if not line:\n",
    "            break\n",
    "        # Standardize json to dict\n",
    "        row = json.loads(line)\n",
    "        # Append to Array\n",
    "        DATA.append(row)"
   ],
   "metadata": {
    "collapsed": false,
    "ExecuteTime": {
     "end_time": "2024-02-01T08:56:58.209876300Z",
     "start_time": "2024-02-01T08:56:58.159948700Z"
    }
   },
   "id": "537e3fd170b27a4f",
   "execution_count": 12
  },
  {
   "cell_type": "code",
   "outputs": [],
   "source": [
    "get_data_from_file(\"../statics/request_data_with_anomaly_pod_instance.json\")"
   ],
   "metadata": {
    "collapsed": false,
    "ExecuteTime": {
     "end_time": "2024-02-01T08:56:58.233306900Z",
     "start_time": "2024-02-01T08:56:58.167167700Z"
    }
   },
   "id": "fd241967a07d1ce6",
   "execution_count": 13
  },
  {
   "cell_type": "code",
   "outputs": [],
   "source": [
    "group_by_el = [\"path\", \"method\", \"service_name\", \"controller_pod\"]"
   ],
   "metadata": {
    "collapsed": false,
    "ExecuteTime": {
     "end_time": "2024-02-01T08:56:58.243887400Z",
     "start_time": "2024-02-01T08:56:58.237169100Z"
    }
   },
   "id": "27635ed1caa37b9e",
   "execution_count": 14
  },
  {
   "cell_type": "code",
   "outputs": [],
   "source": [
    "# Create dataframe\n",
    "root_df = pd.DataFrame(DATA)"
   ],
   "metadata": {
    "collapsed": false,
    "ExecuteTime": {
     "end_time": "2024-02-01T08:56:58.270080600Z",
     "start_time": "2024-02-01T08:56:58.241694Z"
    }
   },
   "id": "37e8554bc2895458",
   "execution_count": 15
  },
  {
   "cell_type": "code",
   "outputs": [
    {
     "data": {
      "text/plain": "              timestamp    path method service_name controller_pod  \\\n0  31/01/2024, 11:01:56   /home    GET  process_log          pod-1   \n1  31/01/2024, 11:01:57  /users    GET  process_log          pod-2   \n2  31/01/2024, 11:01:57   /home    GET  process_log          pod-1   \n3  31/01/2024, 11:01:58   /home    GET  process_log          pod-1   \n4  31/01/2024, 11:01:58  /users    GET  process_log          pod-2   \n\n   duration_time  \n0          0.242  \n1          0.439  \n2          0.459  \n3          0.252  \n4          0.527  ",
      "text/html": "<div>\n<style scoped>\n    .dataframe tbody tr th:only-of-type {\n        vertical-align: middle;\n    }\n\n    .dataframe tbody tr th {\n        vertical-align: top;\n    }\n\n    .dataframe thead th {\n        text-align: right;\n    }\n</style>\n<table border=\"1\" class=\"dataframe\">\n  <thead>\n    <tr style=\"text-align: right;\">\n      <th></th>\n      <th>timestamp</th>\n      <th>path</th>\n      <th>method</th>\n      <th>service_name</th>\n      <th>controller_pod</th>\n      <th>duration_time</th>\n    </tr>\n  </thead>\n  <tbody>\n    <tr>\n      <th>0</th>\n      <td>31/01/2024, 11:01:56</td>\n      <td>/home</td>\n      <td>GET</td>\n      <td>process_log</td>\n      <td>pod-1</td>\n      <td>0.242</td>\n    </tr>\n    <tr>\n      <th>1</th>\n      <td>31/01/2024, 11:01:57</td>\n      <td>/users</td>\n      <td>GET</td>\n      <td>process_log</td>\n      <td>pod-2</td>\n      <td>0.439</td>\n    </tr>\n    <tr>\n      <th>2</th>\n      <td>31/01/2024, 11:01:57</td>\n      <td>/home</td>\n      <td>GET</td>\n      <td>process_log</td>\n      <td>pod-1</td>\n      <td>0.459</td>\n    </tr>\n    <tr>\n      <th>3</th>\n      <td>31/01/2024, 11:01:58</td>\n      <td>/home</td>\n      <td>GET</td>\n      <td>process_log</td>\n      <td>pod-1</td>\n      <td>0.252</td>\n    </tr>\n    <tr>\n      <th>4</th>\n      <td>31/01/2024, 11:01:58</td>\n      <td>/users</td>\n      <td>GET</td>\n      <td>process_log</td>\n      <td>pod-2</td>\n      <td>0.527</td>\n    </tr>\n  </tbody>\n</table>\n</div>"
     },
     "execution_count": 16,
     "metadata": {},
     "output_type": "execute_result"
    }
   ],
   "source": [
    "root_df.head()"
   ],
   "metadata": {
    "collapsed": false,
    "ExecuteTime": {
     "end_time": "2024-02-01T08:56:58.285728300Z",
     "start_time": "2024-02-01T08:56:58.270080600Z"
    }
   },
   "id": "d040cffd69e41508",
   "execution_count": 16
  },
  {
   "cell_type": "code",
   "outputs": [
    {
     "data": {
      "text/plain": "                  timestamp    path method service_name controller_pod  \\\n0      31/01/2024, 11:01:56   /home    GET  process_log          pod-1   \n1      31/01/2024, 11:01:56   /home    GET  process_log          pod-1   \n2      31/01/2024, 11:01:56   /home    GET  process_log          pod-1   \n3      31/01/2024, 11:01:56   /home    GET  process_log          pod-1   \n4      31/01/2024, 11:01:56   /home    GET  process_log          pod-1   \n...                     ...     ...    ...          ...            ...   \n60604  31/01/2024, 12:42:48  /users    GET  process_log          pod-1   \n60605  31/01/2024, 12:42:49   /home    GET  process_log          pod-2   \n60606  31/01/2024, 12:42:49   /home    GET  process_log          pod-2   \n60607  31/01/2024, 12:42:49   /home    GET  process_log          pod-2   \n60608  31/01/2024, 12:42:49   /home    GET  process_log          pod-2   \n\n       duration_time    le  \n0              0.242  0.25  \n1              0.242   0.5  \n2              0.242     1  \n3              0.242     2  \n4              0.242  +Inf  \n...              ...   ...  \n60604          0.417  +Inf  \n60605          0.465   0.5  \n60606          0.465     1  \n60607          0.465     2  \n60608          0.465  +Inf  \n\n[60609 rows x 7 columns]",
      "text/html": "<div>\n<style scoped>\n    .dataframe tbody tr th:only-of-type {\n        vertical-align: middle;\n    }\n\n    .dataframe tbody tr th {\n        vertical-align: top;\n    }\n\n    .dataframe thead th {\n        text-align: right;\n    }\n</style>\n<table border=\"1\" class=\"dataframe\">\n  <thead>\n    <tr style=\"text-align: right;\">\n      <th></th>\n      <th>timestamp</th>\n      <th>path</th>\n      <th>method</th>\n      <th>service_name</th>\n      <th>controller_pod</th>\n      <th>duration_time</th>\n      <th>le</th>\n    </tr>\n  </thead>\n  <tbody>\n    <tr>\n      <th>0</th>\n      <td>31/01/2024, 11:01:56</td>\n      <td>/home</td>\n      <td>GET</td>\n      <td>process_log</td>\n      <td>pod-1</td>\n      <td>0.242</td>\n      <td>0.25</td>\n    </tr>\n    <tr>\n      <th>1</th>\n      <td>31/01/2024, 11:01:56</td>\n      <td>/home</td>\n      <td>GET</td>\n      <td>process_log</td>\n      <td>pod-1</td>\n      <td>0.242</td>\n      <td>0.5</td>\n    </tr>\n    <tr>\n      <th>2</th>\n      <td>31/01/2024, 11:01:56</td>\n      <td>/home</td>\n      <td>GET</td>\n      <td>process_log</td>\n      <td>pod-1</td>\n      <td>0.242</td>\n      <td>1</td>\n    </tr>\n    <tr>\n      <th>3</th>\n      <td>31/01/2024, 11:01:56</td>\n      <td>/home</td>\n      <td>GET</td>\n      <td>process_log</td>\n      <td>pod-1</td>\n      <td>0.242</td>\n      <td>2</td>\n    </tr>\n    <tr>\n      <th>4</th>\n      <td>31/01/2024, 11:01:56</td>\n      <td>/home</td>\n      <td>GET</td>\n      <td>process_log</td>\n      <td>pod-1</td>\n      <td>0.242</td>\n      <td>+Inf</td>\n    </tr>\n    <tr>\n      <th>...</th>\n      <td>...</td>\n      <td>...</td>\n      <td>...</td>\n      <td>...</td>\n      <td>...</td>\n      <td>...</td>\n      <td>...</td>\n    </tr>\n    <tr>\n      <th>60604</th>\n      <td>31/01/2024, 12:42:48</td>\n      <td>/users</td>\n      <td>GET</td>\n      <td>process_log</td>\n      <td>pod-1</td>\n      <td>0.417</td>\n      <td>+Inf</td>\n    </tr>\n    <tr>\n      <th>60605</th>\n      <td>31/01/2024, 12:42:49</td>\n      <td>/home</td>\n      <td>GET</td>\n      <td>process_log</td>\n      <td>pod-2</td>\n      <td>0.465</td>\n      <td>0.5</td>\n    </tr>\n    <tr>\n      <th>60606</th>\n      <td>31/01/2024, 12:42:49</td>\n      <td>/home</td>\n      <td>GET</td>\n      <td>process_log</td>\n      <td>pod-2</td>\n      <td>0.465</td>\n      <td>1</td>\n    </tr>\n    <tr>\n      <th>60607</th>\n      <td>31/01/2024, 12:42:49</td>\n      <td>/home</td>\n      <td>GET</td>\n      <td>process_log</td>\n      <td>pod-2</td>\n      <td>0.465</td>\n      <td>2</td>\n    </tr>\n    <tr>\n      <th>60608</th>\n      <td>31/01/2024, 12:42:49</td>\n      <td>/home</td>\n      <td>GET</td>\n      <td>process_log</td>\n      <td>pod-2</td>\n      <td>0.465</td>\n      <td>+Inf</td>\n    </tr>\n  </tbody>\n</table>\n<p>60609 rows × 7 columns</p>\n</div>"
     },
     "execution_count": 101,
     "metadata": {},
     "output_type": "execute_result"
    }
   ],
   "source": [
    "\n",
    "arr_data = []\n",
    "\n",
    "\n",
    "# BUCKETS = [0.005, 0.01, 0.025, 0.05, 0.1, 0.25, 0.5, 1, 2]\n",
    "def bucketing(row_data: pd.Series):\n",
    "    duration_time = row_data[\"duration_time\"]\n",
    "    for bucket in BUCKETS:\n",
    "        if duration_time <= bucket:\n",
    "            row = {\n",
    "                \"timestamp\": row_data.timestamp,\n",
    "                \"path\": row_data.path,\n",
    "                \"method\": row_data.method,\n",
    "                \"service_name\": row_data.service_name,\n",
    "                \"controller_pod\": row_data.controller_pod,\n",
    "                \"duration_time\": duration_time,\n",
    "                \"le\": str(bucket)\n",
    "            }\n",
    "            arr_data.append(row)\n",
    "    # Always append bucket +Inf\n",
    "    arr_data.append({\n",
    "        \"timestamp\": row_data.timestamp,\n",
    "        \"path\": row_data.path,\n",
    "        \"method\": row_data.method,\n",
    "        \"service_name\": row_data.service_name,\n",
    "        \"duration_time\": duration_time,\n",
    "        \"controller_pod\": row_data.controller_pod,\n",
    "        \"le\": \"+Inf\"\n",
    "    })\n",
    "    # print(arr_data)\n",
    "\n",
    "\n",
    "root_df.apply(lambda x: bucketing(x), axis=1)\n",
    "df_with_bucketed = pd.DataFrame.from_records(arr_data)\n",
    "df_with_bucketed"
   ],
   "metadata": {
    "collapsed": false,
    "ExecuteTime": {
     "end_time": "2024-02-01T10:22:43.120192500Z",
     "start_time": "2024-02-01T10:22:42.162869600Z"
    }
   },
   "id": "54c6754c41a0f661",
   "execution_count": 101
  },
  {
   "cell_type": "code",
   "outputs": [
    {
     "name": "stderr",
     "output_type": "stream",
     "text": [
      "C:\\Users\\vunv\\AppData\\Local\\Temp\\ipykernel_7468\\3785656374.py:5: UserWarning: Parsing dates in %d/%m/%Y, %H:%M:%S format when dayfirst=False (the default) was specified. Pass `dayfirst=True` or specify a format to silence this warning.\n",
      "  df_with_bucketed['timestamp'] = pd.to_datetime(root_df['timestamp'])\n"
     ]
    }
   ],
   "source": [
    "from datetime import datetime\n",
    "\n",
    "df_with_bucketed['timestamp'] = df_with_bucketed['timestamp'].apply(\n",
    "    lambda x: datetime.strptime(x, \"%d/%m/%Y, %H:%M:%S\"))\n",
    "# Convert to datetime pandas and set datetime columns is index for dataframe\n",
    "df_with_bucketed['timestamp'] = pd.to_datetime(root_df['timestamp'])\n",
    "df_with_bucketed = df_with_bucketed.set_index('timestamp')"
   ],
   "metadata": {
    "collapsed": false,
    "ExecuteTime": {
     "end_time": "2024-02-01T10:22:48.787085400Z",
     "start_time": "2024-02-01T10:22:48.348956Z"
    }
   },
   "id": "600347e8113786f0",
   "execution_count": 102
  },
  {
   "cell_type": "code",
   "outputs": [
    {
     "data": {
      "text/plain": "                      path method service_name controller_pod  duration_time  \\\ntimestamp                                                                      \n2024-01-31 11:01:58  /home    GET  process_log          pod-1          0.242   \n2024-01-31 11:02:01  /home    GET  process_log          pod-1          0.459   \n2024-01-31 11:02:02  /home    GET  process_log          pod-1          0.252   \n2024-01-31 11:02:05  /home    GET  process_log          pod-1          0.183   \n2024-01-31 11:02:08  /home    GET  process_log          pod-1          0.658   \n...                    ...    ...          ...            ...            ...   \nNaT                  /home    GET  process_log          pod-1          0.102   \nNaT                  /home    GET  process_log          pod-1          0.722   \nNaT                  /home    GET  process_log          pod-1          0.354   \nNaT                  /home    GET  process_log          pod-1          0.490   \nNaT                  /home    GET  process_log          pod-1          0.666   \n\n                       le  \ntimestamp                  \n2024-01-31 11:01:58  +Inf  \n2024-01-31 11:02:01  +Inf  \n2024-01-31 11:02:02  +Inf  \n2024-01-31 11:02:05  +Inf  \n2024-01-31 11:02:08  +Inf  \n...                   ...  \nNaT                  +Inf  \nNaT                  +Inf  \nNaT                  +Inf  \nNaT                  +Inf  \nNaT                  +Inf  \n\n[3647 rows x 6 columns]",
      "text/html": "<div>\n<style scoped>\n    .dataframe tbody tr th:only-of-type {\n        vertical-align: middle;\n    }\n\n    .dataframe tbody tr th {\n        vertical-align: top;\n    }\n\n    .dataframe thead th {\n        text-align: right;\n    }\n</style>\n<table border=\"1\" class=\"dataframe\">\n  <thead>\n    <tr style=\"text-align: right;\">\n      <th></th>\n      <th>path</th>\n      <th>method</th>\n      <th>service_name</th>\n      <th>controller_pod</th>\n      <th>duration_time</th>\n      <th>le</th>\n    </tr>\n    <tr>\n      <th>timestamp</th>\n      <th></th>\n      <th></th>\n      <th></th>\n      <th></th>\n      <th></th>\n      <th></th>\n    </tr>\n  </thead>\n  <tbody>\n    <tr>\n      <th>2024-01-31 11:01:58</th>\n      <td>/home</td>\n      <td>GET</td>\n      <td>process_log</td>\n      <td>pod-1</td>\n      <td>0.242</td>\n      <td>+Inf</td>\n    </tr>\n    <tr>\n      <th>2024-01-31 11:02:01</th>\n      <td>/home</td>\n      <td>GET</td>\n      <td>process_log</td>\n      <td>pod-1</td>\n      <td>0.459</td>\n      <td>+Inf</td>\n    </tr>\n    <tr>\n      <th>2024-01-31 11:02:02</th>\n      <td>/home</td>\n      <td>GET</td>\n      <td>process_log</td>\n      <td>pod-1</td>\n      <td>0.252</td>\n      <td>+Inf</td>\n    </tr>\n    <tr>\n      <th>2024-01-31 11:02:05</th>\n      <td>/home</td>\n      <td>GET</td>\n      <td>process_log</td>\n      <td>pod-1</td>\n      <td>0.183</td>\n      <td>+Inf</td>\n    </tr>\n    <tr>\n      <th>2024-01-31 11:02:08</th>\n      <td>/home</td>\n      <td>GET</td>\n      <td>process_log</td>\n      <td>pod-1</td>\n      <td>0.658</td>\n      <td>+Inf</td>\n    </tr>\n    <tr>\n      <th>...</th>\n      <td>...</td>\n      <td>...</td>\n      <td>...</td>\n      <td>...</td>\n      <td>...</td>\n      <td>...</td>\n    </tr>\n    <tr>\n      <th>NaT</th>\n      <td>/home</td>\n      <td>GET</td>\n      <td>process_log</td>\n      <td>pod-1</td>\n      <td>0.102</td>\n      <td>+Inf</td>\n    </tr>\n    <tr>\n      <th>NaT</th>\n      <td>/home</td>\n      <td>GET</td>\n      <td>process_log</td>\n      <td>pod-1</td>\n      <td>0.722</td>\n      <td>+Inf</td>\n    </tr>\n    <tr>\n      <th>NaT</th>\n      <td>/home</td>\n      <td>GET</td>\n      <td>process_log</td>\n      <td>pod-1</td>\n      <td>0.354</td>\n      <td>+Inf</td>\n    </tr>\n    <tr>\n      <th>NaT</th>\n      <td>/home</td>\n      <td>GET</td>\n      <td>process_log</td>\n      <td>pod-1</td>\n      <td>0.490</td>\n      <td>+Inf</td>\n    </tr>\n    <tr>\n      <th>NaT</th>\n      <td>/home</td>\n      <td>GET</td>\n      <td>process_log</td>\n      <td>pod-1</td>\n      <td>0.666</td>\n      <td>+Inf</td>\n    </tr>\n  </tbody>\n</table>\n<p>3647 rows × 6 columns</p>\n</div>"
     },
     "execution_count": 104,
     "metadata": {},
     "output_type": "execute_result"
    }
   ],
   "source": [
    "df_with_bucketed.query(\"path == '/home' and controller_pod == 'pod-1' and le == '+Inf'\")"
   ],
   "metadata": {
    "collapsed": false,
    "ExecuteTime": {
     "end_time": "2024-02-01T10:23:49.826557900Z",
     "start_time": "2024-02-01T10:23:49.784635300Z"
    }
   },
   "id": "8838ee451fe86ad6",
   "execution_count": 104
  },
  {
   "cell_type": "code",
   "outputs": [],
   "source": [
    "df_with_bucketed['count'] = df_with_bucketed.groupby(\n",
    "    ['path', 'method', 'controller_pod', 'service_name', 'le']).cumcount() + 1\n",
    "df_with_bucketed.groupby([pd.Grouper(freq=\"30s\"), 'path', 'method', 'controller_pod', 'service_name', 'le']).agg(\n",
    "    {'count': 'last'}).reset_index()[['timestamp', 'path', 'method', 'controller_pod', 'service_name', 'le', 'count']].to_csv('out.csv')"
   ],
   "metadata": {
    "collapsed": false,
    "ExecuteTime": {
     "end_time": "2024-02-01T10:30:44.073300100Z",
     "start_time": "2024-02-01T10:30:43.969822100Z"
    }
   },
   "id": "38e431bfe41fc35f",
   "execution_count": 116
  }
 ],
 "metadata": {
  "kernelspec": {
   "display_name": "Python 3",
   "language": "python",
   "name": "python3"
  },
  "language_info": {
   "codemirror_mode": {
    "name": "ipython",
    "version": 2
   },
   "file_extension": ".py",
   "mimetype": "text/x-python",
   "name": "python",
   "nbconvert_exporter": "python",
   "pygments_lexer": "ipython2",
   "version": "2.7.6"
  }
 },
 "nbformat": 4,
 "nbformat_minor": 5
}
